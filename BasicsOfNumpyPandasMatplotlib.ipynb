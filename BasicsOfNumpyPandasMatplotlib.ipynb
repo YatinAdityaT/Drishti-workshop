{
 "cells": [
  {
   "cell_type": "markdown",
   "metadata": {},
   "source": [
    "# Welcome to Drishti's workshop on Machine Learning/ Deep Learning /Computer vision"
   ]
  },
  {
   "cell_type": "markdown",
   "metadata": {},
   "source": [
    "If you are not familiar with Python Programming language don't worry. Python is one of the easiest computer languages you can learn today and it won't take you long to start writing it yourself! (you would catch up even quicker if you already know a different language like C or javascript or java)\n",
    "\n",
    "These are excellent python tutorials made by Corey Schafer : \n",
    "\n",
    "https://www.youtube.com/watch?v=k9TUPpGqYTo&list=PL-osiE80TeTt2d9bfVyTiXJA-UTHn6WwU&index=2\n",
    "\n",
    "Watch videos: 2,3,4,5,6,7,8,9,15 to 21."
   ]
  },
  {
   "cell_type": "markdown",
   "metadata": {},
   "source": [
    "**Make sure you watch these before proceeding further**.\n",
    "\n",
    "Feel free to explore python on your own by reading articles about it or watching videos make by other creators. Also don't worry if you don't understand anything at any point. We will be always available to help you. :-)"
   ]
  },
  {
   "cell_type": "markdown",
   "metadata": {},
   "source": [
    " "
   ]
  },
  {
   "cell_type": "markdown",
   "metadata": {},
   "source": [
    "Now that you have watched these videos lets start with our first library:\n",
    "\n",
    "PS: feel free to change the values/shapes of any matrix and try to understand what is going on by experimenting! Have fun :)"
   ]
  },
  {
   "cell_type": "markdown",
   "metadata": {},
   "source": [
    "# NumPy"
   ]
  },
  {
   "cell_type": "markdown",
   "metadata": {},
   "source": [
    "In machine learning/deep learning/computer vision you will deal a lot with matrices. Large matrices. We are talking about matrices containing millions of elements and multiple axes. And you will have to perform various operations on these, like matrix multiplication, addition, etc. But don't worry Python has you cover here"
   ]
  },
  {
   "cell_type": "code",
   "execution_count": 49,
   "metadata": {},
   "outputs": [],
   "source": [
    "import numpy"
   ]
  },
  {
   "cell_type": "markdown",
   "metadata": {},
   "source": [
    "When you ran the above code, you told python to import a library called numpy. Now, NumPy stands for Numerical Python, it is a library made by some brilliant people for the purposes of doing calculations on large matrices effectively. "
   ]
  },
  {
   "cell_type": "markdown",
   "metadata": {},
   "source": [
    "Now, here is something that I want you to remember about python. Python is all about doing things that actually matter. In Python we don't believe in reinventing the wheel every time we have to do something. We simply focus on building the best car possible from parts that someone else has already manufactured and optimized. "
   ]
  },
  {
   "cell_type": "markdown",
   "metadata": {},
   "source": [
    "So many-a-times in python you will see people \"import\" various libraries to use the tools created by other people instead of re-writing the code themselves."
   ]
  },
  {
   "cell_type": "markdown",
   "metadata": {},
   "source": [
    "Numpy, for example has been written in faster programming languages than python, has been optimized to perfection, is capable of utilizing the multiple cores on you CPU and has an enormous community of people who constantly check for bugs and maintain it. "
   ]
  },
  {
   "cell_type": "markdown",
   "metadata": {},
   "source": [
    "Let me give you a quick demo of the power and simplicity of NumPy. Say, you want a matix with 12 rows and 12 columns that contains all zeros. Well using numpy it takes mearly one line!"
   ]
  },
  {
   "cell_type": "code",
   "execution_count": 50,
   "metadata": {},
   "outputs": [
    {
     "data": {
      "text/plain": [
       "array([[0., 0., 0., 0., 0., 0., 0., 0., 0., 0., 0., 0.],\n",
       "       [0., 0., 0., 0., 0., 0., 0., 0., 0., 0., 0., 0.],\n",
       "       [0., 0., 0., 0., 0., 0., 0., 0., 0., 0., 0., 0.],\n",
       "       [0., 0., 0., 0., 0., 0., 0., 0., 0., 0., 0., 0.],\n",
       "       [0., 0., 0., 0., 0., 0., 0., 0., 0., 0., 0., 0.],\n",
       "       [0., 0., 0., 0., 0., 0., 0., 0., 0., 0., 0., 0.],\n",
       "       [0., 0., 0., 0., 0., 0., 0., 0., 0., 0., 0., 0.],\n",
       "       [0., 0., 0., 0., 0., 0., 0., 0., 0., 0., 0., 0.],\n",
       "       [0., 0., 0., 0., 0., 0., 0., 0., 0., 0., 0., 0.],\n",
       "       [0., 0., 0., 0., 0., 0., 0., 0., 0., 0., 0., 0.],\n",
       "       [0., 0., 0., 0., 0., 0., 0., 0., 0., 0., 0., 0.],\n",
       "       [0., 0., 0., 0., 0., 0., 0., 0., 0., 0., 0., 0.]])"
      ]
     },
     "execution_count": 50,
     "metadata": {},
     "output_type": "execute_result"
    }
   ],
   "source": [
    "numpy.zeros((12,12))"
   ]
  },
  {
   "cell_type": "markdown",
   "metadata": {},
   "source": [
    "As you can see from running the above code you have a matrix of size (12,12) containing all zeros."
   ]
  },
  {
   "cell_type": "markdown",
   "metadata": {},
   "source": [
    "That was fun wasn't it. Alright lets try something new. We are programmers, we are lazy people. We aren't going to count till 12 to check if the above output is actually (12,12). We want numpy to do that too!"
   ]
  },
  {
   "cell_type": "markdown",
   "metadata": {},
   "source": [
    "So lets run the above code once more but this time we will store the output into a variable."
   ]
  },
  {
   "cell_type": "code",
   "execution_count": 51,
   "metadata": {},
   "outputs": [],
   "source": [
    "my_matrix = numpy.zeros((12,12))"
   ]
  },
  {
   "cell_type": "markdown",
   "metadata": {},
   "source": [
    "Notice how we don't get any output this time. We can see the matrix by printing it:"
   ]
  },
  {
   "cell_type": "code",
   "execution_count": 52,
   "metadata": {},
   "outputs": [
    {
     "name": "stdout",
     "output_type": "stream",
     "text": [
      "[[0. 0. 0. 0. 0. 0. 0. 0. 0. 0. 0. 0.]\n",
      " [0. 0. 0. 0. 0. 0. 0. 0. 0. 0. 0. 0.]\n",
      " [0. 0. 0. 0. 0. 0. 0. 0. 0. 0. 0. 0.]\n",
      " [0. 0. 0. 0. 0. 0. 0. 0. 0. 0. 0. 0.]\n",
      " [0. 0. 0. 0. 0. 0. 0. 0. 0. 0. 0. 0.]\n",
      " [0. 0. 0. 0. 0. 0. 0. 0. 0. 0. 0. 0.]\n",
      " [0. 0. 0. 0. 0. 0. 0. 0. 0. 0. 0. 0.]\n",
      " [0. 0. 0. 0. 0. 0. 0. 0. 0. 0. 0. 0.]\n",
      " [0. 0. 0. 0. 0. 0. 0. 0. 0. 0. 0. 0.]\n",
      " [0. 0. 0. 0. 0. 0. 0. 0. 0. 0. 0. 0.]\n",
      " [0. 0. 0. 0. 0. 0. 0. 0. 0. 0. 0. 0.]\n",
      " [0. 0. 0. 0. 0. 0. 0. 0. 0. 0. 0. 0.]]\n"
     ]
    }
   ],
   "source": [
    "print(my_matrix)"
   ]
  },
  {
   "cell_type": "markdown",
   "metadata": {},
   "source": [
    "Alright, now lets find the shape of `my_matrix`"
   ]
  },
  {
   "cell_type": "code",
   "execution_count": 53,
   "metadata": {},
   "outputs": [
    {
     "data": {
      "text/plain": [
       "(12, 12)"
      ]
     },
     "execution_count": 53,
     "metadata": {},
     "output_type": "execute_result"
    }
   ],
   "source": [
    "numpy.shape(my_matrix)"
   ]
  },
  {
   "cell_type": "markdown",
   "metadata": {},
   "source": [
    "Yes! It is infact (12,12)"
   ]
  },
  {
   "cell_type": "markdown",
   "metadata": {},
   "source": [
    "Now, writing `numpy` again and again is tiresome (remember we programmers are lazy people!) so lets rename numpy to something else, something short, like `np`. In python you can do this by making a small change in the import statement:"
   ]
  },
  {
   "cell_type": "code",
   "execution_count": 54,
   "metadata": {},
   "outputs": [],
   "source": [
    "import numpy as np"
   ]
  },
  {
   "cell_type": "markdown",
   "metadata": {},
   "source": [
    "Voilà! Now you can simply write `np` in the code instead on `numpy` and everything will work just fine! Lets try it:"
   ]
  },
  {
   "cell_type": "code",
   "execution_count": 55,
   "metadata": {},
   "outputs": [
    {
     "data": {
      "text/plain": [
       "array([[0., 0., 0., 0., 0., 0., 0., 0., 0., 0., 0., 0.],\n",
       "       [0., 0., 0., 0., 0., 0., 0., 0., 0., 0., 0., 0.],\n",
       "       [0., 0., 0., 0., 0., 0., 0., 0., 0., 0., 0., 0.],\n",
       "       [0., 0., 0., 0., 0., 0., 0., 0., 0., 0., 0., 0.],\n",
       "       [0., 0., 0., 0., 0., 0., 0., 0., 0., 0., 0., 0.],\n",
       "       [0., 0., 0., 0., 0., 0., 0., 0., 0., 0., 0., 0.],\n",
       "       [0., 0., 0., 0., 0., 0., 0., 0., 0., 0., 0., 0.],\n",
       "       [0., 0., 0., 0., 0., 0., 0., 0., 0., 0., 0., 0.],\n",
       "       [0., 0., 0., 0., 0., 0., 0., 0., 0., 0., 0., 0.],\n",
       "       [0., 0., 0., 0., 0., 0., 0., 0., 0., 0., 0., 0.],\n",
       "       [0., 0., 0., 0., 0., 0., 0., 0., 0., 0., 0., 0.],\n",
       "       [0., 0., 0., 0., 0., 0., 0., 0., 0., 0., 0., 0.]])"
      ]
     },
     "execution_count": 55,
     "metadata": {},
     "output_type": "execute_result"
    }
   ],
   "source": [
    "np.zeros((12,12))"
   ]
  },
  {
   "cell_type": "markdown",
   "metadata": {},
   "source": [
    "Now look, you can name any library anything you want, but there are certain customs we must follow. Kinda like how you can legally name your son anything you want but still you won't name him dummy due to social pressure or something, although it would make a good name, but I digress."
   ]
  },
  {
   "cell_type": "markdown",
   "metadata": {},
   "source": [
    "Similarly in python community we have certain customs like, `numpy` should always be imported as `np`. This makes it easier for someone who is looking at your code to understand what is going on."
   ]
  },
  {
   "cell_type": "markdown",
   "metadata": {},
   "source": [
    "Alright now that that is out of the way lets have some more fun with numpy and see what it has to offer."
   ]
  },
  {
   "cell_type": "markdown",
   "metadata": {},
   "source": [
    "## Converting Python lists to NumPy's Ndarrays"
   ]
  },
  {
   "cell_type": "code",
   "execution_count": 56,
   "metadata": {},
   "outputs": [],
   "source": [
    "my_list = [[1 , 2, 3, 4], [5, 6, 7, 8], [9, 10, 11, 12]] # my list is a python list"
   ]
  },
  {
   "cell_type": "code",
   "execution_count": 57,
   "metadata": {},
   "outputs": [
    {
     "data": {
      "text/plain": [
       "[[1, 2, 3, 4], [5, 6, 7, 8], [9, 10, 11, 12]]"
      ]
     },
     "execution_count": 57,
     "metadata": {},
     "output_type": "execute_result"
    }
   ],
   "source": [
    "my_list"
   ]
  },
  {
   "cell_type": "markdown",
   "metadata": {},
   "source": [
    "Here we have created a list in python. Now whenever we wish to use numpy on python lists we have to convert them into something called an `Ndarray`. We can do this by doing:"
   ]
  },
  {
   "cell_type": "code",
   "execution_count": 58,
   "metadata": {},
   "outputs": [],
   "source": [
    "ndarray_of_my_list = np.array(my_list)"
   ]
  },
  {
   "cell_type": "code",
   "execution_count": 59,
   "metadata": {
    "scrolled": false
   },
   "outputs": [
    {
     "data": {
      "text/plain": [
       "array([[ 1,  2,  3,  4],\n",
       "       [ 5,  6,  7,  8],\n",
       "       [ 9, 10, 11, 12]])"
      ]
     },
     "execution_count": 59,
     "metadata": {},
     "output_type": "execute_result"
    }
   ],
   "source": [
    "ndarray_of_my_list"
   ]
  },
  {
   "cell_type": "markdown",
   "metadata": {},
   "source": [
    "Hm... It looks the same doesn't it? So what did we actually do? Well lets use the in-build `type` function to check the types of `my_list` and `ndarray_of_my_list`"
   ]
  },
  {
   "cell_type": "code",
   "execution_count": 60,
   "metadata": {},
   "outputs": [
    {
     "data": {
      "text/plain": [
       "list"
      ]
     },
     "execution_count": 60,
     "metadata": {},
     "output_type": "execute_result"
    }
   ],
   "source": [
    "type(my_list)"
   ]
  },
  {
   "cell_type": "code",
   "execution_count": 61,
   "metadata": {},
   "outputs": [
    {
     "data": {
      "text/plain": [
       "numpy.ndarray"
      ]
     },
     "execution_count": 61,
     "metadata": {},
     "output_type": "execute_result"
    }
   ],
   "source": [
    "type(ndarray_of_my_list)"
   ]
  },
  {
   "cell_type": "markdown",
   "metadata": {},
   "source": [
    "As you can see `ndarray_of_my_list` is in fact different from `my_list` . `my_list` is a simple python `list` whereas `ndarray_of_my_list` is an `ndarray`. Now that we have an ndarray in our hands we can do cool operations on it with the power of NumPy!"
   ]
  },
  {
   "cell_type": "markdown",
   "metadata": {},
   "source": [
    "## Ndim and Arange"
   ]
  },
  {
   "cell_type": "markdown",
   "metadata": {},
   "source": [
    "Lets find the dimension of that array!"
   ]
  },
  {
   "cell_type": "code",
   "execution_count": 212,
   "metadata": {},
   "outputs": [],
   "source": [
    "a = np.array([[1 , 2, 3, 4], [5, 6, 7, 8], [9, 10, 11, 12]])"
   ]
  },
  {
   "cell_type": "code",
   "execution_count": 213,
   "metadata": {},
   "outputs": [
    {
     "data": {
      "text/plain": [
       "2"
      ]
     },
     "execution_count": 213,
     "metadata": {},
     "output_type": "execute_result"
    }
   ],
   "source": [
    "np.ndim(a) # np.ndim() gives the dimensions of the array."
   ]
  },
  {
   "cell_type": "markdown",
   "metadata": {},
   "source": [
    "`a` is a 2-D array."
   ]
  },
  {
   "cell_type": "markdown",
   "metadata": {},
   "source": [
    "Lets see some more dimensions. I am going to use `np.arange` function for this. `np.arange` takes the starting value and the ending value and forms an array for us using the values in between."
   ]
  },
  {
   "cell_type": "code",
   "execution_count": 214,
   "metadata": {},
   "outputs": [],
   "source": [
    "b = np.arange(1,10)"
   ]
  },
  {
   "cell_type": "code",
   "execution_count": 215,
   "metadata": {},
   "outputs": [
    {
     "data": {
      "text/plain": [
       "array([1, 2, 3, 4, 5, 6, 7, 8, 9])"
      ]
     },
     "execution_count": 215,
     "metadata": {},
     "output_type": "execute_result"
    }
   ],
   "source": [
    "b # we get an array from 1 to 9. np.array will give values including the first element (here 1) \n",
    "  # but excluding the last element (here 10)"
   ]
  },
  {
   "cell_type": "code",
   "execution_count": 216,
   "metadata": {},
   "outputs": [
    {
     "data": {
      "text/plain": [
       "1"
      ]
     },
     "execution_count": 216,
     "metadata": {},
     "output_type": "execute_result"
    }
   ],
   "source": [
    "np.ndim(b) # as you can see b is a 1-D array"
   ]
  },
  {
   "cell_type": "markdown",
   "metadata": {},
   "source": [
    "What? You say you want an array with values starting from 1 and going till 100 with span of 3?  Well `arange` got you covered!"
   ]
  },
  {
   "cell_type": "code",
   "execution_count": 124,
   "metadata": {
    "scrolled": true
   },
   "outputs": [
    {
     "data": {
      "text/plain": [
       "array([ 1,  4,  7, 10, 13, 16, 19, 22, 25, 28, 31, 34, 37, 40, 43, 46, 49,\n",
       "       52, 55, 58, 61, 64, 67, 70, 73, 76, 79, 82, 85, 88, 91, 94, 97])"
      ]
     },
     "execution_count": 124,
     "metadata": {},
     "output_type": "execute_result"
    }
   ],
   "source": [
    "np.arange(1,100,3) # the third argument tells arange to take steps of 3 instead of the default 1."
   ]
  },
  {
   "cell_type": "markdown",
   "metadata": {},
   "source": [
    "Lets see some more cool examples:"
   ]
  },
  {
   "cell_type": "code",
   "execution_count": 125,
   "metadata": {
    "scrolled": true
   },
   "outputs": [
    {
     "data": {
      "text/plain": [
       "array([100,  99,  98,  97,  96,  95,  94,  93,  92,  91,  90,  89,  88,\n",
       "        87,  86,  85,  84,  83,  82,  81,  80,  79,  78,  77,  76,  75,\n",
       "        74,  73,  72,  71,  70,  69,  68,  67,  66,  65,  64,  63,  62,\n",
       "        61,  60,  59,  58,  57,  56,  55,  54,  53,  52,  51,  50,  49,\n",
       "        48,  47,  46,  45,  44,  43,  42,  41,  40,  39,  38,  37,  36,\n",
       "        35,  34,  33,  32,  31,  30,  29,  28,  27,  26,  25,  24,  23,\n",
       "        22,  21,  20,  19,  18,  17,  16,  15,  14,  13,  12,  11,  10,\n",
       "         9,   8,   7,   6,   5,   4,   3,   2])"
      ]
     },
     "execution_count": 125,
     "metadata": {},
     "output_type": "execute_result"
    }
   ],
   "source": [
    "np.arange(100,1,-1) # go reverse man! take negitive steps"
   ]
  },
  {
   "cell_type": "code",
   "execution_count": 126,
   "metadata": {
    "scrolled": false
   },
   "outputs": [
    {
     "data": {
      "text/plain": [
       "array([1.  , 1.01, 1.02, 1.03, 1.04, 1.05, 1.06, 1.07, 1.08, 1.09, 1.1 ,\n",
       "       1.11, 1.12, 1.13, 1.14, 1.15, 1.16, 1.17, 1.18, 1.19, 1.2 , 1.21,\n",
       "       1.22, 1.23, 1.24, 1.25, 1.26, 1.27, 1.28, 1.29, 1.3 , 1.31, 1.32,\n",
       "       1.33, 1.34, 1.35, 1.36, 1.37, 1.38, 1.39, 1.4 , 1.41, 1.42, 1.43,\n",
       "       1.44, 1.45, 1.46, 1.47, 1.48, 1.49, 1.5 , 1.51, 1.52, 1.53, 1.54,\n",
       "       1.55, 1.56, 1.57, 1.58, 1.59, 1.6 , 1.61, 1.62, 1.63, 1.64, 1.65,\n",
       "       1.66, 1.67, 1.68, 1.69, 1.7 , 1.71, 1.72, 1.73, 1.74, 1.75, 1.76,\n",
       "       1.77, 1.78, 1.79, 1.8 , 1.81, 1.82, 1.83, 1.84, 1.85, 1.86, 1.87,\n",
       "       1.88, 1.89, 1.9 , 1.91, 1.92, 1.93, 1.94, 1.95, 1.96, 1.97, 1.98,\n",
       "       1.99, 2.  , 2.01, 2.02, 2.03, 2.04, 2.05, 2.06, 2.07, 2.08, 2.09,\n",
       "       2.1 , 2.11, 2.12, 2.13, 2.14, 2.15, 2.16, 2.17, 2.18, 2.19, 2.2 ,\n",
       "       2.21, 2.22, 2.23, 2.24, 2.25, 2.26, 2.27, 2.28, 2.29, 2.3 , 2.31,\n",
       "       2.32, 2.33, 2.34, 2.35, 2.36, 2.37, 2.38, 2.39, 2.4 , 2.41, 2.42,\n",
       "       2.43, 2.44, 2.45, 2.46, 2.47, 2.48, 2.49, 2.5 , 2.51, 2.52, 2.53,\n",
       "       2.54, 2.55, 2.56, 2.57, 2.58, 2.59, 2.6 , 2.61, 2.62, 2.63, 2.64,\n",
       "       2.65, 2.66, 2.67, 2.68, 2.69, 2.7 , 2.71, 2.72, 2.73, 2.74, 2.75,\n",
       "       2.76, 2.77, 2.78, 2.79, 2.8 , 2.81, 2.82, 2.83, 2.84, 2.85, 2.86,\n",
       "       2.87, 2.88, 2.89, 2.9 , 2.91, 2.92, 2.93, 2.94, 2.95, 2.96, 2.97,\n",
       "       2.98, 2.99])"
      ]
     },
     "execution_count": 126,
     "metadata": {},
     "output_type": "execute_result"
    }
   ],
   "source": [
    "np.arange(1,3,0.01) # baby steps"
   ]
  },
  {
   "cell_type": "code",
   "execution_count": 127,
   "metadata": {
    "scrolled": false
   },
   "outputs": [
    {
     "data": {
      "text/plain": [
       "array([2.  , 1.99, 1.98, 1.97, 1.96, 1.95, 1.94, 1.93, 1.92, 1.91, 1.9 ,\n",
       "       1.89, 1.88, 1.87, 1.86, 1.85, 1.84, 1.83, 1.82, 1.81, 1.8 , 1.79,\n",
       "       1.78, 1.77, 1.76, 1.75, 1.74, 1.73, 1.72, 1.71, 1.7 , 1.69, 1.68,\n",
       "       1.67, 1.66, 1.65, 1.64, 1.63, 1.62, 1.61, 1.6 , 1.59, 1.58, 1.57,\n",
       "       1.56, 1.55, 1.54, 1.53, 1.52, 1.51, 1.5 , 1.49, 1.48, 1.47, 1.46,\n",
       "       1.45, 1.44, 1.43, 1.42, 1.41, 1.4 , 1.39, 1.38, 1.37, 1.36, 1.35,\n",
       "       1.34, 1.33, 1.32, 1.31, 1.3 , 1.29, 1.28, 1.27, 1.26, 1.25, 1.24,\n",
       "       1.23, 1.22, 1.21, 1.2 , 1.19, 1.18, 1.17, 1.16, 1.15, 1.14, 1.13,\n",
       "       1.12, 1.11, 1.1 , 1.09, 1.08, 1.07, 1.06, 1.05, 1.04, 1.03, 1.02,\n",
       "       1.01])"
      ]
     },
     "execution_count": 127,
     "metadata": {},
     "output_type": "execute_result"
    }
   ],
   "source": [
    "np.arange(2,1,-0.01) # negitive baby steps!"
   ]
  },
  {
   "cell_type": "markdown",
   "metadata": {},
   "source": [
    "I think you get the point. This is why I love python. You get so much done in just one line !"
   ]
  },
  {
   "cell_type": "markdown",
   "metadata": {},
   "source": [
    "## Reshape"
   ]
  },
  {
   "cell_type": "markdown",
   "metadata": {},
   "source": [
    "Awesome! Now lets try to make a 3-D array! "
   ]
  },
  {
   "cell_type": "markdown",
   "metadata": {},
   "source": [
    "First lets get a long 1-D array and then lets reshape it to out desired shape"
   ]
  },
  {
   "cell_type": "code",
   "execution_count": 102,
   "metadata": {},
   "outputs": [],
   "source": [
    "one_d_array = np.arange(0,40)"
   ]
  },
  {
   "cell_type": "code",
   "execution_count": 103,
   "metadata": {},
   "outputs": [
    {
     "data": {
      "text/plain": [
       "array([ 0,  1,  2,  3,  4,  5,  6,  7,  8,  9, 10, 11, 12, 13, 14, 15, 16,\n",
       "       17, 18, 19, 20, 21, 22, 23, 24, 25, 26, 27, 28, 29, 30, 31, 32, 33,\n",
       "       34, 35, 36, 37, 38, 39])"
      ]
     },
     "execution_count": 103,
     "metadata": {},
     "output_type": "execute_result"
    }
   ],
   "source": [
    "one_d_array # 0 to 39. (remember 40 is not included!)"
   ]
  },
  {
   "cell_type": "markdown",
   "metadata": {},
   "source": [
    "Now lets reshape this. We want there to be "
   ]
  },
  {
   "cell_type": "code",
   "execution_count": 104,
   "metadata": {},
   "outputs": [],
   "source": [
    "three_d_array = np.reshape(one_d_array,(10,2,2))"
   ]
  },
  {
   "cell_type": "code",
   "execution_count": 105,
   "metadata": {
    "scrolled": true
   },
   "outputs": [
    {
     "data": {
      "text/plain": [
       "array([[[ 0,  1],\n",
       "        [ 2,  3]],\n",
       "\n",
       "       [[ 4,  5],\n",
       "        [ 6,  7]],\n",
       "\n",
       "       [[ 8,  9],\n",
       "        [10, 11]],\n",
       "\n",
       "       [[12, 13],\n",
       "        [14, 15]],\n",
       "\n",
       "       [[16, 17],\n",
       "        [18, 19]],\n",
       "\n",
       "       [[20, 21],\n",
       "        [22, 23]],\n",
       "\n",
       "       [[24, 25],\n",
       "        [26, 27]],\n",
       "\n",
       "       [[28, 29],\n",
       "        [30, 31]],\n",
       "\n",
       "       [[32, 33],\n",
       "        [34, 35]],\n",
       "\n",
       "       [[36, 37],\n",
       "        [38, 39]]])"
      ]
     },
     "execution_count": 105,
     "metadata": {},
     "output_type": "execute_result"
    }
   ],
   "source": [
    "three_d_array"
   ]
  },
  {
   "cell_type": "code",
   "execution_count": 108,
   "metadata": {},
   "outputs": [
    {
     "data": {
      "text/plain": [
       "(10, 2, 2)"
      ]
     },
     "execution_count": 108,
     "metadata": {},
     "output_type": "execute_result"
    }
   ],
   "source": [
    "np.shape(three_d_array) # and as you can see reshape reshaped out array into the desired shape!"
   ]
  },
  {
   "cell_type": "code",
   "execution_count": 109,
   "metadata": {},
   "outputs": [
    {
     "data": {
      "text/plain": [
       "3"
      ]
     },
     "execution_count": 109,
     "metadata": {},
     "output_type": "execute_result"
    }
   ],
   "source": [
    "np.ndim(three_d_array) # also because our shape has a third value, the output is a 3-D array!"
   ]
  },
  {
   "cell_type": "markdown",
   "metadata": {},
   "source": [
    "## Random"
   ]
  },
  {
   "cell_type": "markdown",
   "metadata": {},
   "source": [
    "Well arranging values in an order is all well and good but it is kinda boring to be honest.."
   ]
  },
  {
   "cell_type": "markdown",
   "metadata": {},
   "source": [
    "What if we want a matrix with random values. Lets get a little random shall we! "
   ]
  },
  {
   "cell_type": "code",
   "execution_count": 128,
   "metadata": {},
   "outputs": [
    {
     "data": {
      "text/plain": [
       "array([[0.588185  , 0.50257309, 0.32863581, 0.83755947, 0.06493845],\n",
       "       [0.4163033 , 0.93713403, 0.97006683, 0.32058723, 0.89436321],\n",
       "       [0.03729683, 0.0353749 , 0.13047742, 0.66781634, 0.02475546],\n",
       "       [0.63489149, 0.06005054, 0.07483585, 0.58185006, 0.40550644]])"
      ]
     },
     "execution_count": 128,
     "metadata": {},
     "output_type": "execute_result"
    }
   ],
   "source": [
    "np.random.rand(4,5) # np.random.rand will give you a matrix of random values with the shape you asked for(here (4,5))"
   ]
  },
  {
   "cell_type": "markdown",
   "metadata": {},
   "source": [
    "Notice that `np.random.rand` gives random numbers between 0 and 1"
   ]
  },
  {
   "cell_type": "markdown",
   "metadata": {},
   "source": [
    "You can do the following to get values between 0 and 100:"
   ]
  },
  {
   "cell_type": "code",
   "execution_count": 129,
   "metadata": {},
   "outputs": [
    {
     "data": {
      "text/plain": [
       "array([[72.64716827, 59.49663531, 97.55988563, 67.99365951, 31.58829944],\n",
       "       [84.97279895, 68.03025253, 43.15460032, 46.19989441, 13.14493559],\n",
       "       [90.3638108 ,  8.70850166, 11.25367222, 83.61743694,  9.22984987],\n",
       "       [61.13509413, 69.41521297, 39.01369306, 68.98204414, 46.62410557]])"
      ]
     },
     "execution_count": 129,
     "metadata": {},
     "output_type": "execute_result"
    }
   ],
   "source": [
    "np.random.rand(4,5)*100"
   ]
  },
  {
   "cell_type": "markdown",
   "metadata": {},
   "source": [
    "Another cool `random` feature (pun unintended):"
   ]
  },
  {
   "cell_type": "code",
   "execution_count": 132,
   "metadata": {},
   "outputs": [
    {
     "data": {
      "text/plain": [
       "array([[1, 2, 4],\n",
       "       [1, 0, 4]])"
      ]
     },
     "execution_count": 132,
     "metadata": {},
     "output_type": "execute_result"
    }
   ],
   "source": [
    "np.random.randint(5,size=(2,3))"
   ]
  },
  {
   "cell_type": "markdown",
   "metadata": {},
   "source": [
    "2x3 array with random integers between 0–4"
   ]
  },
  {
   "cell_type": "markdown",
   "metadata": {},
   "source": [
    "## Sorting a matrix"
   ]
  },
  {
   "cell_type": "code",
   "execution_count": 144,
   "metadata": {},
   "outputs": [],
   "source": [
    "matrix = np.random.rand(4,5)"
   ]
  },
  {
   "cell_type": "code",
   "execution_count": 145,
   "metadata": {},
   "outputs": [
    {
     "data": {
      "text/plain": [
       "array([[0.73191391, 0.47854694, 0.10491776, 0.45716792, 0.751147  ],\n",
       "       [0.56976068, 0.84726967, 0.55056362, 0.11734644, 0.07742079],\n",
       "       [0.2209753 , 0.2036361 , 0.12396266, 0.45086251, 0.29760535],\n",
       "       [0.69228927, 0.68268921, 0.86286158, 0.50726892, 0.04982218]])"
      ]
     },
     "execution_count": 145,
     "metadata": {},
     "output_type": "execute_result"
    }
   ],
   "source": [
    "matrix"
   ]
  },
  {
   "cell_type": "code",
   "execution_count": 181,
   "metadata": {},
   "outputs": [],
   "source": [
    "matrix.sort() # sort is inbuild in python. It can sort lists and ndarrays. Notice how it doesn't return anything..."
   ]
  },
  {
   "cell_type": "code",
   "execution_count": 147,
   "metadata": {
    "scrolled": true
   },
   "outputs": [
    {
     "data": {
      "text/plain": [
       "array([[0.10491776, 0.45716792, 0.47854694, 0.73191391, 0.751147  ],\n",
       "       [0.07742079, 0.11734644, 0.55056362, 0.56976068, 0.84726967],\n",
       "       [0.12396266, 0.2036361 , 0.2209753 , 0.29760535, 0.45086251],\n",
       "       [0.04982218, 0.50726892, 0.68268921, 0.69228927, 0.86286158]])"
      ]
     },
     "execution_count": 147,
     "metadata": {},
     "output_type": "execute_result"
    }
   ],
   "source": [
    "matrix"
   ]
  },
  {
   "cell_type": "markdown",
   "metadata": {},
   "source": [
    "`sort` will sort a matrix. Notice that in this case the variable `matrix` changes to a sorted form."
   ]
  },
  {
   "cell_type": "markdown",
   "metadata": {},
   "source": [
    "`sort` sorts the matrix about the axis -1 by default (here, sorted along rows...). "
   ]
  },
  {
   "cell_type": "markdown",
   "metadata": {},
   "source": [
    "You can explicitly tell it sort about 0 (here, along the columns) "
   ]
  },
  {
   "cell_type": "code",
   "execution_count": 150,
   "metadata": {},
   "outputs": [],
   "source": [
    "matrix.sort(axis=0)"
   ]
  },
  {
   "cell_type": "code",
   "execution_count": 151,
   "metadata": {},
   "outputs": [
    {
     "data": {
      "text/plain": [
       "array([[0.04982218, 0.11734644, 0.2209753 , 0.29760535, 0.45086251],\n",
       "       [0.07742079, 0.2036361 , 0.47854694, 0.56976068, 0.751147  ],\n",
       "       [0.10491776, 0.45716792, 0.55056362, 0.69228927, 0.84726967],\n",
       "       [0.12396266, 0.50726892, 0.68268921, 0.73191391, 0.86286158]])"
      ]
     },
     "execution_count": 151,
     "metadata": {},
     "output_type": "execute_result"
    }
   ],
   "source": [
    "matrix"
   ]
  },
  {
   "cell_type": "markdown",
   "metadata": {},
   "source": [
    "## Copying a matrix"
   ]
  },
  {
   "cell_type": "code",
   "execution_count": 161,
   "metadata": {},
   "outputs": [],
   "source": [
    "matrix = np.random.rand(3,3)*100"
   ]
  },
  {
   "cell_type": "code",
   "execution_count": 162,
   "metadata": {
    "scrolled": true
   },
   "outputs": [
    {
     "data": {
      "text/plain": [
       "array([[85.57828648, 17.34518996, 91.14556981],\n",
       "       [66.85216055, 52.80221919, 60.00705157],\n",
       "       [81.08505721, 78.70477477, 54.03933892]])"
      ]
     },
     "execution_count": 162,
     "metadata": {},
     "output_type": "execute_result"
    }
   ],
   "source": [
    "matrix"
   ]
  },
  {
   "cell_type": "markdown",
   "metadata": {},
   "source": [
    "As you noticed earlier, when we did `.sort` on a matrix, the values in that matrix got affected. Sometimes we don't want this to happen, we wish to create a copy of the original matrix and work on that instead of affecting the original."
   ]
  },
  {
   "cell_type": "markdown",
   "metadata": {},
   "source": [
    "Now there is a catch here, simply doing something as shown below won't work (you might thing you are simply assigning the values in matrix to new_matrix but wait and see):"
   ]
  },
  {
   "cell_type": "code",
   "execution_count": 163,
   "metadata": {},
   "outputs": [],
   "source": [
    "new_matrix = matrix"
   ]
  },
  {
   "cell_type": "markdown",
   "metadata": {},
   "source": [
    "Why won't this work? Well lets first check what elements new_matrix has:"
   ]
  },
  {
   "cell_type": "code",
   "execution_count": 164,
   "metadata": {},
   "outputs": [
    {
     "data": {
      "text/plain": [
       "array([[85.57828648, 17.34518996, 91.14556981],\n",
       "       [66.85216055, 52.80221919, 60.00705157],\n",
       "       [81.08505721, 78.70477477, 54.03933892]])"
      ]
     },
     "execution_count": 164,
     "metadata": {},
     "output_type": "execute_result"
    }
   ],
   "source": [
    "new_matrix"
   ]
  },
  {
   "cell_type": "markdown",
   "metadata": {},
   "source": [
    "Now lets try modifying `new_matrix`"
   ]
  },
  {
   "cell_type": "code",
   "execution_count": 165,
   "metadata": {},
   "outputs": [],
   "source": [
    "new_matrix.sort(axis=-1)"
   ]
  },
  {
   "cell_type": "code",
   "execution_count": 166,
   "metadata": {},
   "outputs": [
    {
     "data": {
      "text/plain": [
       "array([[17.34518996, 85.57828648, 91.14556981],\n",
       "       [52.80221919, 60.00705157, 66.85216055],\n",
       "       [54.03933892, 78.70477477, 81.08505721]])"
      ]
     },
     "execution_count": 166,
     "metadata": {},
     "output_type": "execute_result"
    }
   ],
   "source": [
    "new_matrix"
   ]
  },
  {
   "cell_type": "markdown",
   "metadata": {},
   "source": [
    "And, `new_matrix` is modified, well no surprise there..."
   ]
  },
  {
   "cell_type": "markdown",
   "metadata": {},
   "source": [
    "But lets check `matrix` once shall we.."
   ]
  },
  {
   "cell_type": "code",
   "execution_count": 167,
   "metadata": {},
   "outputs": [
    {
     "data": {
      "text/plain": [
       "array([[17.34518996, 85.57828648, 91.14556981],\n",
       "       [52.80221919, 60.00705157, 66.85216055],\n",
       "       [54.03933892, 78.70477477, 81.08505721]])"
      ]
     },
     "execution_count": 167,
     "metadata": {},
     "output_type": "execute_result"
    }
   ],
   "source": [
    "matrix"
   ]
  },
  {
   "cell_type": "markdown",
   "metadata": {},
   "source": [
    "Wait what!? `matrix` got sorted too!?? "
   ]
  },
  {
   "cell_type": "markdown",
   "metadata": {},
   "source": [
    "Yes. You see when you do `new_matrix = matrix` you are more or less telling python to refer to `matrix` as `new_matrix`. Thats all. It is like renaming your son from dummy to tummy. He is still gonna be your son!"
   ]
  },
  {
   "cell_type": "markdown",
   "metadata": {},
   "source": [
    "For people who know about some different programming language this is basically `call by reference`"
   ]
  },
  {
   "cell_type": "markdown",
   "metadata": {},
   "source": [
    "Alright so what should we do now? How should we copy the contents of `matrix` into `new_matrix`. (basically `call by value`)"
   ]
  },
  {
   "cell_type": "markdown",
   "metadata": {},
   "source": [
    "`np.copy` to the rescue!"
   ]
  },
  {
   "cell_type": "code",
   "execution_count": 192,
   "metadata": {},
   "outputs": [
    {
     "data": {
      "text/plain": [
       "array([[ 9.92019448, 88.48868193, 59.23585873],\n",
       "       [20.6288367 , 74.18557337, 64.13928818],\n",
       "       [33.26881639, 10.80800939,  6.00647136]])"
      ]
     },
     "execution_count": 192,
     "metadata": {},
     "output_type": "execute_result"
    }
   ],
   "source": [
    "matrix = np.random.rand(3,3)*100 # lets get a fresh new matrix to work with\n",
    "matrix"
   ]
  },
  {
   "cell_type": "code",
   "execution_count": 193,
   "metadata": {},
   "outputs": [],
   "source": [
    "new_matrix = np.copy(matrix)"
   ]
  },
  {
   "cell_type": "code",
   "execution_count": 194,
   "metadata": {},
   "outputs": [
    {
     "data": {
      "text/plain": [
       "array([[ 9.92019448, 88.48868193, 59.23585873],\n",
       "       [20.6288367 , 74.18557337, 64.13928818],\n",
       "       [33.26881639, 10.80800939,  6.00647136]])"
      ]
     },
     "execution_count": 194,
     "metadata": {},
     "output_type": "execute_result"
    }
   ],
   "source": [
    "new_matrix"
   ]
  },
  {
   "cell_type": "code",
   "execution_count": 195,
   "metadata": {},
   "outputs": [],
   "source": [
    "new_matrix.sort() # sort new_matrix"
   ]
  },
  {
   "cell_type": "code",
   "execution_count": 196,
   "metadata": {},
   "outputs": [
    {
     "data": {
      "text/plain": [
       "array([[ 9.92019448, 59.23585873, 88.48868193],\n",
       "       [20.6288367 , 64.13928818, 74.18557337],\n",
       "       [ 6.00647136, 10.80800939, 33.26881639]])"
      ]
     },
     "execution_count": 196,
     "metadata": {},
     "output_type": "execute_result"
    }
   ],
   "source": [
    "new_matrix # new_matrix sorted along the row"
   ]
  },
  {
   "cell_type": "code",
   "execution_count": 197,
   "metadata": {},
   "outputs": [
    {
     "data": {
      "text/plain": [
       "array([[ 9.92019448, 88.48868193, 59.23585873],\n",
       "       [20.6288367 , 74.18557337, 64.13928818],\n",
       "       [33.26881639, 10.80800939,  6.00647136]])"
      ]
     },
     "execution_count": 197,
     "metadata": {},
     "output_type": "execute_result"
    }
   ],
   "source": [
    "matrix"
   ]
  },
  {
   "cell_type": "markdown",
   "metadata": {},
   "source": [
    "Look! `matrix` isn't affected. It is like you cloned your son dummy into a completely new being tummy. (You did that to your own son! omg) And now you can safely experiment on your new son tummy. (that analogy went too dark too quickly)"
   ]
  },
  {
   "cell_type": "markdown",
   "metadata": {},
   "source": [
    "Alright alright I sort of lied to you. You can sort a matrix using `np.sort` instead of python's inbuilt `sort` function. That way you won't actually affect the array you are sorting and will get a new array automatically. (I just wanted to teach you about `call by reference` and `call by value`)"
   ]
  },
  {
   "cell_type": "code",
   "execution_count": 198,
   "metadata": {},
   "outputs": [
    {
     "data": {
      "text/plain": [
       "array([[25.65527492, 90.71289465, 66.59066611],\n",
       "       [ 0.58999069, 57.23829853, 78.34270728],\n",
       "       [26.38842741, 30.47467435, 77.89283639]])"
      ]
     },
     "execution_count": 198,
     "metadata": {},
     "output_type": "execute_result"
    }
   ],
   "source": [
    "matrix = np.random.rand(3,3)*100 # lets get a fresh new matrix to work with\n",
    "matrix "
   ]
  },
  {
   "cell_type": "code",
   "execution_count": 199,
   "metadata": {},
   "outputs": [],
   "source": [
    "new_matrix = np.sort(matrix)"
   ]
  },
  {
   "cell_type": "code",
   "execution_count": 200,
   "metadata": {},
   "outputs": [
    {
     "data": {
      "text/plain": [
       "array([[25.65527492, 66.59066611, 90.71289465],\n",
       "       [ 0.58999069, 57.23829853, 78.34270728],\n",
       "       [26.38842741, 30.47467435, 77.89283639]])"
      ]
     },
     "execution_count": 200,
     "metadata": {},
     "output_type": "execute_result"
    }
   ],
   "source": [
    "new_matrix"
   ]
  },
  {
   "cell_type": "code",
   "execution_count": 201,
   "metadata": {},
   "outputs": [
    {
     "data": {
      "text/plain": [
       "array([[25.65527492, 90.71289465, 66.59066611],\n",
       "       [ 0.58999069, 57.23829853, 78.34270728],\n",
       "       [26.38842741, 30.47467435, 77.89283639]])"
      ]
     },
     "execution_count": 201,
     "metadata": {},
     "output_type": "execute_result"
    }
   ],
   "source": [
    "matrix"
   ]
  },
  {
   "cell_type": "markdown",
   "metadata": {},
   "source": [
    "Notice how using `np.sort` instead of `sort` didn't affect the original `matrix` and simply returns a sorted `new_matrix`"
   ]
  },
  {
   "cell_type": "markdown",
   "metadata": {},
   "source": [
    "## Adding and removing elements"
   ]
  },
  {
   "cell_type": "code",
   "execution_count": 244,
   "metadata": {},
   "outputs": [
    {
     "data": {
      "text/plain": [
       "array([1, 2, 3, 4, 5, 6, 7, 8, 9])"
      ]
     },
     "execution_count": 244,
     "metadata": {},
     "output_type": "execute_result"
    }
   ],
   "source": [
    "my_arr = np.arange(1,10)\n",
    "my_arr"
   ]
  },
  {
   "cell_type": "markdown",
   "metadata": {},
   "source": [
    "You can add elements to this array by using the `np.append` function"
   ]
  },
  {
   "cell_type": "code",
   "execution_count": 245,
   "metadata": {},
   "outputs": [
    {
     "data": {
      "text/plain": [
       "array([  1,   2,   3,   4,   5,   6,   7,   8,   9,  90, 100])"
      ]
     },
     "execution_count": 245,
     "metadata": {},
     "output_type": "execute_result"
    }
   ],
   "source": [
    "my_arr = np.append(my_arr,90) # append one to my_arr and store the output in my_arr\n",
    "my_arr = np.append(my_arr,100)# then append 100 to that\n",
    "my_arr"
   ]
  },
  {
   "cell_type": "markdown",
   "metadata": {},
   "source": [
    "Lets say you have 2 arrays. `array1` and `array2`. And you some reason you want to make a bigger array by joining these two arrays together.."
   ]
  },
  {
   "cell_type": "code",
   "execution_count": 211,
   "metadata": {},
   "outputs": [
    {
     "data": {
      "text/plain": [
       "array([0, 8, 9, 7, 5, 8, 8, 2, 5, 7])"
      ]
     },
     "execution_count": 211,
     "metadata": {},
     "output_type": "execute_result"
    }
   ],
   "source": [
    "array1 = np.random.randint(low = 0,high = 10,size = (10,))# make an array using random integers from [low,high) of size (10,)\n",
    "array1"
   ]
  },
  {
   "cell_type": "code",
   "execution_count": 209,
   "metadata": {},
   "outputs": [
    {
     "data": {
      "text/plain": [
       "array([1, 6, 1, 8, 5, 6, 4, 0, 8, 5])"
      ]
     },
     "execution_count": 209,
     "metadata": {},
     "output_type": "execute_result"
    }
   ],
   "source": [
    "array2 = np.random.randint(low = 0,high = 10,size = (10,))\n",
    "array2"
   ]
  },
  {
   "cell_type": "markdown",
   "metadata": {},
   "source": [
    "Using `np.append` you can concatenate the two arrays into one large array"
   ]
  },
  {
   "cell_type": "code",
   "execution_count": 210,
   "metadata": {},
   "outputs": [
    {
     "data": {
      "text/plain": [
       "array([4, 8, 1, 8, 4, 5, 4, 6, 2, 8, 1, 6, 1, 8, 5, 6, 4, 0, 8, 5])"
      ]
     },
     "execution_count": 210,
     "metadata": {},
     "output_type": "execute_result"
    }
   ],
   "source": [
    "np.append(array1,array2)"
   ]
  },
  {
   "cell_type": "markdown",
   "metadata": {},
   "source": [
    "Lets try this with 2-D arrays"
   ]
  },
  {
   "cell_type": "code",
   "execution_count": 220,
   "metadata": {},
   "outputs": [
    {
     "name": "stdout",
     "output_type": "stream",
     "text": [
      "array1\n",
      " [[6 4 6 5 0 7 1 9 7 4]\n",
      " [1 7 4 1 1 9 3 0 5 8]\n",
      " [6 1 1 6 4 9 7 2 5 8]\n",
      " [0 1 5 7 0 7 2 2 2 5]\n",
      " [5 6 0 9 5 5 4 4 4 0]\n",
      " [5 7 8 2 1 2 4 2 6 4]\n",
      " [3 9 2 2 2 4 9 4 6 0]\n",
      " [2 1 7 4 0 5 7 5 7 5]\n",
      " [9 7 5 3 5 4 2 9 0 1]\n",
      " [5 7 8 0 5 5 0 1 8 7]]\n",
      "array2\n",
      " [[4 9 6 4 3 2 6 2 9 7 5 8]\n",
      " [5 8 5 9 2 0 6 1 2 3 8 8]\n",
      " [4 5 9 9 5 9 7 6 7 7 2 3]\n",
      " [7 0 1 4 4 8 9 8 2 8 6 9]\n",
      " [8 1 9 2 2 0 0 2 5 1 2 5]\n",
      " [9 7 4 4 9 0 8 9 4 4 5 9]\n",
      " [4 5 5 4 7 6 4 2 6 3 6 2]\n",
      " [2 0 2 7 1 7 5 2 2 6 2 4]\n",
      " [1 3 7 5 8 1 1 7 8 1 6 2]\n",
      " [9 7 5 9 0 9 1 8 8 0 7 2]]\n"
     ]
    }
   ],
   "source": [
    "array1 = np.random.randint(low = 0,high = 10,size = (10,10))# make an array using random integers from [low,high) of size (10,10)\n",
    "array2 = np.random.randint(low = 0,high = 10,size = (10,12))# make an array using random integers from [low,high) of size (10,12)\n",
    "print('array1\\n',array1)\n",
    "print('array2\\n',array2)"
   ]
  },
  {
   "cell_type": "code",
   "execution_count": 230,
   "metadata": {},
   "outputs": [
    {
     "data": {
      "text/plain": [
       "array([6, 4, 6, 5, 0, 7, 1, 9, 7, 4, 1, 7, 4, 1, 1, 9, 3, 0, 5, 8, 6, 1,\n",
       "       1, 6, 4, 9, 7, 2, 5, 8, 0, 1, 5, 7, 0, 7, 2, 2, 2, 5, 5, 6, 0, 9,\n",
       "       5, 5, 4, 4, 4, 0, 5, 7, 8, 2, 1, 2, 4, 2, 6, 4, 3, 9, 2, 2, 2, 4,\n",
       "       9, 4, 6, 0, 2, 1, 7, 4, 0, 5, 7, 5, 7, 5, 9, 7, 5, 3, 5, 4, 2, 9,\n",
       "       0, 1, 5, 7, 8, 0, 5, 5, 0, 1, 8, 7, 4, 9, 6, 4, 3, 2, 6, 2, 9, 7,\n",
       "       5, 8, 5, 8, 5, 9, 2, 0, 6, 1, 2, 3, 8, 8, 4, 5, 9, 9, 5, 9, 7, 6,\n",
       "       7, 7, 2, 3, 7, 0, 1, 4, 4, 8, 9, 8, 2, 8, 6, 9, 8, 1, 9, 2, 2, 0,\n",
       "       0, 2, 5, 1, 2, 5, 9, 7, 4, 4, 9, 0, 8, 9, 4, 4, 5, 9, 4, 5, 5, 4,\n",
       "       7, 6, 4, 2, 6, 3, 6, 2, 2, 0, 2, 7, 1, 7, 5, 2, 2, 6, 2, 4, 1, 3,\n",
       "       7, 5, 8, 1, 1, 7, 8, 1, 6, 2, 9, 7, 5, 9, 0, 9, 1, 8, 8, 0, 7, 2])"
      ]
     },
     "execution_count": 230,
     "metadata": {},
     "output_type": "execute_result"
    }
   ],
   "source": [
    "np.append(array1,array2) # np.append has axis = None by default. So we get this weird output which is 1-D."
   ]
  },
  {
   "cell_type": "code",
   "execution_count": 232,
   "metadata": {},
   "outputs": [
    {
     "data": {
      "text/plain": [
       "array([[6, 4, 6, 5, 0, 7, 1, 9, 7, 4, 4, 9, 6, 4, 3, 2, 6, 2, 9, 7, 5, 8],\n",
       "       [1, 7, 4, 1, 1, 9, 3, 0, 5, 8, 5, 8, 5, 9, 2, 0, 6, 1, 2, 3, 8, 8],\n",
       "       [6, 1, 1, 6, 4, 9, 7, 2, 5, 8, 4, 5, 9, 9, 5, 9, 7, 6, 7, 7, 2, 3],\n",
       "       [0, 1, 5, 7, 0, 7, 2, 2, 2, 5, 7, 0, 1, 4, 4, 8, 9, 8, 2, 8, 6, 9],\n",
       "       [5, 6, 0, 9, 5, 5, 4, 4, 4, 0, 8, 1, 9, 2, 2, 0, 0, 2, 5, 1, 2, 5],\n",
       "       [5, 7, 8, 2, 1, 2, 4, 2, 6, 4, 9, 7, 4, 4, 9, 0, 8, 9, 4, 4, 5, 9],\n",
       "       [3, 9, 2, 2, 2, 4, 9, 4, 6, 0, 4, 5, 5, 4, 7, 6, 4, 2, 6, 3, 6, 2],\n",
       "       [2, 1, 7, 4, 0, 5, 7, 5, 7, 5, 2, 0, 2, 7, 1, 7, 5, 2, 2, 6, 2, 4],\n",
       "       [9, 7, 5, 3, 5, 4, 2, 9, 0, 1, 1, 3, 7, 5, 8, 1, 1, 7, 8, 1, 6, 2],\n",
       "       [5, 7, 8, 0, 5, 5, 0, 1, 8, 7, 9, 7, 5, 9, 0, 9, 1, 8, 8, 0, 7, 2]])"
      ]
     },
     "execution_count": 232,
     "metadata": {},
     "output_type": "execute_result"
    }
   ],
   "source": [
    "np.append(array1,array2,axis=-1) #instead if we give it axis=-1 it concatenates the 2 matrixes along the \"column axis\""
   ]
  },
  {
   "cell_type": "markdown",
   "metadata": {},
   "source": [
    "You can remove elements using `np.delete`. `np.delete` take the position of the element to be deleted  "
   ]
  },
  {
   "cell_type": "code",
   "execution_count": 246,
   "metadata": {},
   "outputs": [
    {
     "data": {
      "text/plain": [
       "array([[6, 4, 6, 5, 0, 7, 1, 9, 7, 4],\n",
       "       [1, 7, 4, 1, 1, 9, 3, 0, 5, 8],\n",
       "       [6, 1, 1, 6, 4, 9, 7, 2, 5, 8],\n",
       "       [0, 1, 5, 7, 0, 7, 2, 2, 2, 5],\n",
       "       [5, 6, 0, 9, 5, 5, 4, 4, 4, 0],\n",
       "       [5, 7, 8, 2, 1, 2, 4, 2, 6, 4],\n",
       "       [3, 9, 2, 2, 2, 4, 9, 4, 6, 0],\n",
       "       [2, 1, 7, 4, 0, 5, 7, 5, 7, 5],\n",
       "       [9, 7, 5, 3, 5, 4, 2, 9, 0, 1],\n",
       "       [5, 7, 8, 0, 5, 5, 0, 1, 8, 7]])"
      ]
     },
     "execution_count": 246,
     "metadata": {},
     "output_type": "execute_result"
    }
   ],
   "source": [
    "array1"
   ]
  },
  {
   "cell_type": "code",
   "execution_count": 250,
   "metadata": {},
   "outputs": [
    {
     "data": {
      "text/plain": [
       "array([4, 6, 5, 0, 7, 1, 9, 7, 4, 1, 7, 4, 1, 1, 9, 3, 0, 5, 8, 6, 1, 1,\n",
       "       6, 4, 9, 7, 2, 5, 8, 0, 1, 5, 7, 0, 7, 2, 2, 2, 5, 5, 6, 0, 9, 5,\n",
       "       5, 4, 4, 4, 0, 5, 7, 8, 2, 1, 2, 4, 2, 6, 4, 3, 9, 2, 2, 2, 4, 9,\n",
       "       4, 6, 0, 2, 1, 7, 4, 0, 5, 7, 5, 7, 5, 9, 7, 5, 3, 5, 4, 2, 9, 0,\n",
       "       1, 5, 7, 8, 0, 5, 5, 0, 1, 8, 7])"
      ]
     },
     "execution_count": 250,
     "metadata": {},
     "output_type": "execute_result"
    }
   ],
   "source": [
    "np.delete(array1, (0,0)) # remove element (0,0)"
   ]
  },
  {
   "cell_type": "markdown",
   "metadata": {},
   "source": [
    "## Slicing and indexing ndarrays"
   ]
  },
  {
   "cell_type": "markdown",
   "metadata": {},
   "source": [
    "Before reading this make sure you have watched Corey Schafer's video on python list slicing and indexing. Else you won't understand what is going on\n",
    "\n",
    "https://www.youtube.com/watch?v=ajrtAuDg3yw&list=PL-osiE80TeTt2d9bfVyTiXJA-UTHn6WwU&index=20&t=0s\n",
    "\n",
    "Also you can read this StackOverflow answer: https://stackoverflow.com/a/509295/11573842 (StackOverflow is a great site meant for developers/coders to ask questions and share problems with other developers/coders and get possible solutions)"
   ]
  },
  {
   "cell_type": "markdown",
   "metadata": {},
   "source": [
    "You can slice and index ndarrays just like you slice python lists."
   ]
  },
  {
   "cell_type": "code",
   "execution_count": 261,
   "metadata": {},
   "outputs": [
    {
     "data": {
      "text/plain": [
       "array([[ 1,  2,  3,  4],\n",
       "       [ 5,  6,  7,  8],\n",
       "       [ 9, 10, 11, 12]])"
      ]
     },
     "execution_count": 261,
     "metadata": {},
     "output_type": "execute_result"
    }
   ],
   "source": [
    "a = np.array([[1 , 2, 3, 4], [5, 6, 7, 8], [9, 10, 11, 12]])\n",
    "a"
   ]
  },
  {
   "cell_type": "code",
   "execution_count": 262,
   "metadata": {},
   "outputs": [
    {
     "data": {
      "text/plain": [
       "array([1, 2, 3, 4])"
      ]
     },
     "execution_count": 262,
     "metadata": {},
     "output_type": "execute_result"
    }
   ],
   "source": [
    "a[0] # get row 0"
   ]
  },
  {
   "cell_type": "code",
   "execution_count": 263,
   "metadata": {},
   "outputs": [
    {
     "data": {
      "text/plain": [
       "1"
      ]
     },
     "execution_count": 263,
     "metadata": {},
     "output_type": "execute_result"
    }
   ],
   "source": [
    "a[0][0] # first get row 0 and then get 0th element in that, here 1"
   ]
  },
  {
   "cell_type": "code",
   "execution_count": 264,
   "metadata": {},
   "outputs": [
    {
     "data": {
      "text/plain": [
       "array([ 3,  7, 11])"
      ]
     },
     "execution_count": 264,
     "metadata": {},
     "output_type": "execute_result"
    }
   ],
   "source": [
    "a[:,2] # all rows, 3rd column "
   ]
  },
  {
   "cell_type": "markdown",
   "metadata": {},
   "source": [
    "Notice how the result is an ndarray in itself."
   ]
  },
  {
   "cell_type": "markdown",
   "metadata": {},
   "source": [
    "Alright, enough NumPy for now. NumPy is a great and extremely useful library which is capable of doing a lot more than what I have shown you. So in you free time try to learn more about it."
   ]
  },
  {
   "cell_type": "markdown",
   "metadata": {},
   "source": [
    "# Pandas"
   ]
  },
  {
   "cell_type": "markdown",
   "metadata": {},
   "source": [
    "Lets start with Pandas now. Here is what the official Pandas site has to say about it:\n",
    "> Pandas is a fast, powerful, flexible and easy to use open source **data analysis and manipulation** tool,\n",
    "built on top of the Python programming language. "
   ]
  },
  {
   "cell_type": "markdown",
   "metadata": {},
   "source": [
    "Now we are getting into one of the core aspects of data science. Data analysis and data manipulation."
   ]
  },
  {
   "cell_type": "code",
   "execution_count": null,
   "metadata": {},
   "outputs": [],
   "source": []
  }
 ],
 "metadata": {
  "kernelspec": {
   "display_name": "Python 3",
   "language": "python",
   "name": "python3"
  },
  "language_info": {
   "codemirror_mode": {
    "name": "ipython",
    "version": 3
   },
   "file_extension": ".py",
   "mimetype": "text/x-python",
   "name": "python",
   "nbconvert_exporter": "python",
   "pygments_lexer": "ipython3",
   "version": "3.7.7"
  }
 },
 "nbformat": 4,
 "nbformat_minor": 4
}
